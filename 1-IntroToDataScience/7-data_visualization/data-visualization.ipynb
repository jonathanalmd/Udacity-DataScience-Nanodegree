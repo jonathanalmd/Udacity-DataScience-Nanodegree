{
 "cells": [
  {
   "cell_type": "markdown",
   "metadata": {},
   "source": [
    "# Lesson 7 - Data Visualization\n",
    "\n",
    "### What is information visualization?\n",
    "* Effective communication of complex quantitative ideas\n",
    "    * Clarity: \n",
    "    * Precision\n",
    "    * Efficiency\n",
    "* Helps you notice things about data (correlations, trends, etc.) that might go unnoticed\n",
    "* Can highlight aspects of data\n",
    "    * Highlight certain trends\n",
    "    \n",
    "### What makes a visualization effective?\n",
    "* Visual cues / visual encoding \n",
    "    * Encoding data with shapes, colours, sizes\n",
    "* Coordinate systems\n",
    "    * Structured space that dictates where the shapes and colour should go\n",
    "    * Gives meaning to and X, Y coodidate on a chart\n",
    "* Scale and Data types\n",
    "    * Numeric\n",
    "    * Categorical\n",
    "    * Time series\n",
    "* Context\n",
    "    * Clarify what values represent\n",
    "    * Represent how to interpret data\n",
    "    * Titles, axis labels, annotations... \n",
    "    "
   ]
  },
  {
   "cell_type": "markdown",
   "metadata": {},
   "source": [
    "## Visual Cues\n",
    "\n",
    "### Position\n",
    "* Takes up less space than other visual cues\n",
    "    * _Space efficient_ \n",
    "* Each data point is represented as a dot\n",
    "    * _Points often have the same size: allows you to easily identify **trends**, **clusters**, and **outliers** by plotting all the data at once_\n",
    "\n",
    "### Length - Size\n",
    "* Bar charts\n",
    "    * _Length of a bar indicates the intensity or value of the data point_\n",
    "\n",
    "### Angle\n",
    "* Pie charts\n",
    "    * _Represent parts of a whole_\n",
    "    * **Negative aspect**: human eyes can have a difficult time differentiating angles\n",
    "        * _25 degrees and 30 degrees may look very similar_\n",
    "        * **Avoid** if you are trying to **show very small differences**\n",
    "        \n",
    "### Direction\n",
    "* Similar to Angle\n",
    "    * The direction encoding relies on a single vector's orientation in a coordinate system\n",
    "    * Same **negative aspect**\n",
    "\n",
    "### Shape\n",
    "* Used to differentiate categories of objects\n",
    "\n",
    "### Area / Volume - Size\n",
    "* Bigger objects tipically represent greater values\n",
    "\n",
    "### Colour\n",
    "* 2 different ways (used individually or in combination):\n",
    "    * Hue\n",
    "        * Different colours used together usually in the key categorical data where each colour represents a different group\n",
    "    * Saturation\n",
    "        * Intensity of colour for a given hue\n",
    "        * Encode intensity or quantity of a value\n",
    "* Hue + Saturation\n",
    "    * This might accentuate the differences in value and tell us when the value is positive or negative and how intense the absolute value of that effect is\n",
    "* General rule: do not use more than 12 colours to encode categories"
   ]
  },
  {
   "cell_type": "markdown",
   "metadata": {},
   "source": [
    "### Perception of Visual Cues (most accurate to least accurate)\n",
    "#### _Accuracy is defined as the ability to indicate quantitative values and for humans to perceive these values_\n",
    "_1985 AT&T Labs Paper on Graphical Perception_\n",
    "\n",
    "1) Position\n",
    "\n",
    "2) Length\n",
    "\n",
    "3) Angle\n",
    "\n",
    "4) DIrection\n",
    "\n",
    "5) Area\n",
    "\n",
    "6) Volume\n",
    "\n",
    "7) Saturation\n",
    "\n",
    "8) Hue"
   ]
  },
  {
   "cell_type": "markdown",
   "metadata": {},
   "source": [
    "## Plotting in Python\n",
    "* Many packages\n",
    "    * matplotlib (very popular)\n",
    "    * ggplot\n",
    "* Why ggplot?\n",
    "    * Bit more aesthetically pleasing than matplotlib - _looks nicer_\n",
    "    * It is an implementation of a pretty neat concept called the **grammar of graphics** \n",
    "        * Claims that there is a grammar involved in composing graphical components of statistical graphics\n"
   ]
  },
  {
   "cell_type": "markdown",
   "metadata": {},
   "source": [
    "### Grammar of Graphics\n",
    "* Plots convey information through aesthetics \n",
    "    * x-y positions\n",
    "* Elements in a plot are geometric shapes\n",
    "    * Points, lines, bars\n",
    "        * Size, colour\n",
    "        \n",
    "#### Steps to Create a Graph\n",
    "1) Create plot (canvas)\n",
    "\n",
    "    ggplot(data, aes(xvar,yvar))\n",
    "    \n",
    "2) Represent data with geometric objects\n",
    "\n",
    "    ggplot(data, aes(xvar, yvar)) + \\\n",
    "      geom_point(color = 'coral') + geom_line(color='coral')\n",
    "    \n",
    "3) Add labels\n",
    "\n",
    "    ggplot(data, aes(xvar, yvar)) + \\\n",
    "      geom_point(color = 'coral') + geom_line(color='coral') + \\\n",
    "      ggtitle('title') + xlab('x-label') + ylab('y-label')\n",
    "    "
   ]
  },
  {
   "cell_type": "code",
   "execution_count": null,
   "metadata": {
    "collapsed": true
   },
   "outputs": [],
   "source": []
  }
 ],
 "metadata": {
  "kernelspec": {
   "display_name": "Python 3",
   "language": "python",
   "name": "python3"
  },
  "language_info": {
   "codemirror_mode": {
    "name": "ipython",
    "version": 3
   },
   "file_extension": ".py",
   "mimetype": "text/x-python",
   "name": "python",
   "nbconvert_exporter": "python",
   "pygments_lexer": "ipython3",
   "version": "3.6.3"
  }
 },
 "nbformat": 4,
 "nbformat_minor": 2
}
