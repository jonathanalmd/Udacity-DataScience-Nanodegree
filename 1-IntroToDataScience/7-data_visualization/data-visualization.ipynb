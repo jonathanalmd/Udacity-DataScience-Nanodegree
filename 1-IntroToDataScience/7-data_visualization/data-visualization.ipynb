{
 "cells": [
  {
   "cell_type": "markdown",
   "metadata": {},
   "source": [
    "# Lesson 7 - Data Visualization\n",
    "\n",
    "### What is information visualization?\n",
    "* Effective communication of complex quantitative ideas\n",
    "    * Clarity: \n",
    "    * Precision\n",
    "    * Efficiency\n",
    "* Helps you notice things about data (correlations, trends, etc.) that might go unnoticed\n",
    "* Can highlight aspects of data\n",
    "    * Highlight certain trends\n",
    "    \n",
    "### What makes a visualization effective?\n",
    "* Visual cues / visual encoding \n",
    "    * Encoding data with shapes, colours, sizes\n",
    "* Coordinate systems\n",
    "    * Structured space that dictates where the shapes and colour should go\n",
    "    * Gives meaning to and X, Y coodidate on a chart\n",
    "* Scale and Data types\n",
    "    * Numeric\n",
    "    * Categorical\n",
    "    * Time series\n",
    "* Context\n",
    "    * Clarify what values represent\n",
    "    * Represent how to interpret data\n",
    "    * Titles, axis labels, annotations... \n",
    "    "
   ]
  },
  {
   "cell_type": "markdown",
   "metadata": {},
   "source": []
  }
 ],
 "metadata": {
  "kernelspec": {
   "display_name": "Python 3",
   "language": "python",
   "name": "python3"
  },
  "language_info": {
   "codemirror_mode": {
    "name": "ipython",
    "version": 3
   },
   "file_extension": ".py",
   "mimetype": "text/x-python",
   "name": "python",
   "nbconvert_exporter": "python",
   "pygments_lexer": "ipython3",
   "version": "3.6.3"
  }
 },
 "nbformat": 4,
 "nbformat_minor": 2
}
