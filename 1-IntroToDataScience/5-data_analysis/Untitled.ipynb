{
 "cells": [
  {
   "cell_type": "markdown",
   "metadata": {},
   "source": [
    "# Data Analysis"
   ]
  },
  {
   "cell_type": "markdown",
   "metadata": {},
   "source": [
    "## Why are statistical significance tests useful?\n",
    "\n",
    "* They provide a formalized framework for comparing and evaluating data\n",
    "* They enable us to evaluate whether perceived effects in our dataset reflect differences across the whole population"
   ]
  },
  {
   "cell_type": "markdown",
   "metadata": {},
   "source": [
    "## Normal Distribution (Gaussian Distribution, Bell Curve)"
   ]
  },
  {
   "cell_type": "markdown",
   "metadata": {},
   "source": [
    "### Two parameters associated:\n",
    "\n",
    "* Mean $$\\mu$$\n",
    "* Standard deviation $$\\sigma$$\n",
    "\n",
    "\n",
    "These two parameters plug in to the following probability density function, which describes a Gaussian distribution:\n",
    "\n",
    "![title](img/normal-d.jpg)\n",
    "\n",
    "$$f(x) = \\frac{1}{{\\sqrt {2\\pi \\sigma^2} }}e^{ - \\frac{{(x - \\mu)^2}}{2\\sigma^2}}$$\n",
    "\n",
    "* The expected <b>value of a variable described</b> by a Gaussian distribution is the <b>mean</b> and the <b>variance</b> is the <b>standard deviation</b>.\n",
    "\n",
    "* Normal distributions are also symetric about their mean"
   ]
  },
  {
   "cell_type": "markdown",
   "metadata": {},
   "source": [
    "## Statistical Significance Tests"
   ]
  },
  {
   "cell_type": "markdown",
   "metadata": {},
   "source": [
    "## t-Test\n",
    "One of the most common parametric test that we can use to compare two sets of data.\n",
    "\n",
    "* Aims at accepting or rejecting a <b>null hypothesis</b>: generally a statement that we are trying to disprove by running our test)\n",
    "\n",
    "<b>TEST STATISTIC:</b> reduces the dataset to one number that helps to accept or reject the <b>null hypotesis</b>. When performing a t-Test, we compute a test statistic called <b>T</b>. \n",
    "\n",
    "$$ tTest \\rightarrow t $$\n",
    "\n",
    "Depending on the value of the test statistic T we can determine whether or not a null hypotesis is true."
   ]
  },
  {
   "cell_type": "markdown",
   "metadata": {},
   "source": [
    "### Two Sample t-Test\n",
    "A few different versions depending on assumptions:\n",
    "* Equal sample size?\n",
    "* Same variance?\n",
    "\n",
    "$$t = \\frac{\\mu_1 - \\mu_2}{{\\sqrt {\\frac {\\sigma_1^2}{N_1} + \\frac {\\sigma_2^2}{N_2} }}}$$\n",
    "\n",
    "Where:\n",
    "* Sample mean for i sample: $$\\mu_i$$ \n",
    "* Sample variance for i'th sample: $$\\sigma_i^2$$\n",
    "* Sample size for i sample: $$N_i$$\n",
    "\n",
    "To estimate the number of degrees of freedom:\n",
    "$$\\nu \\approx \\frac{(\\frac{\\sigma_1^2}{N_1}+\\frac{\\sigma_2^2}{N_2})^2}{\\frac{\\sigma_1^4}{N_1^2 \\nu_1}+\\frac{\\sigma_2^4}{N_2^2 \\nu_2}}$$\n",
    "\n",
    "Where:\n",
    "\n",
    "$$\\nu_i = N_i - 1$$\n",
    "\n",
    "is the degrees of freedom associated with the i'th variance estimate.\n",
    "\n",
    "With these two values we can estimate the P value which is the probability of obtaining the test statistic at least as extreme as the one that was actually observed assumin that the null hypotesis was true."
   ]
  },
  {
   "cell_type": "code",
   "execution_count": null,
   "metadata": {
    "collapsed": true
   },
   "outputs": [],
   "source": []
  }
 ],
 "metadata": {
  "kernelspec": {
   "display_name": "Python 3",
   "language": "python",
   "name": "python3"
  },
  "language_info": {
   "codemirror_mode": {
    "name": "ipython",
    "version": 3
   },
   "file_extension": ".py",
   "mimetype": "text/x-python",
   "name": "python",
   "nbconvert_exporter": "python",
   "pygments_lexer": "ipython3",
   "version": "3.6.3"
  }
 },
 "nbformat": 4,
 "nbformat_minor": 2
}
