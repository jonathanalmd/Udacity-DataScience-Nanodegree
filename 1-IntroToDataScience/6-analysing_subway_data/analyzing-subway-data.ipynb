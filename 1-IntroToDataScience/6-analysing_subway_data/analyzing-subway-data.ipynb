{
 "cells": [
  {
   "cell_type": "markdown",
   "metadata": {},
   "source": [
    "# Lesson 6 - Problem Set 3: Analyzing Subway Data\n",
    "https://s3.amazonaws.com/content.udacity-data.com/courses/ud359/weather_underground.csv"
   ]
  },
  {
   "cell_type": "markdown",
   "metadata": {},
   "source": [
    "## Useful functions"
   ]
  },
  {
   "cell_type": "code",
   "execution_count": 54,
   "metadata": {
    "collapsed": true
   },
   "outputs": [],
   "source": [
    "def input_dir():\n",
    "    return os.getcwd() + '/data/input/'\n",
    "\n",
    "def output_dir():\n",
    "    return os.getcwd() + '/data/output/'"
   ]
  },
  {
   "cell_type": "code",
   "execution_count": 55,
   "metadata": {
    "collapsed": true
   },
   "outputs": [],
   "source": [
    "def read_csv_data(filename, input_dir):\n",
    "    '''\n",
    "    Receives a file name (csv)\n",
    "    Returns a DataFrame\n",
    "    '''\n",
    "    data = pd.read_csv(input_dir + filename)\n",
    "    \n",
    "    #Rename the columns by replacing spaces with underscores and setting all characters to lowercase\n",
    "    data.rename(columns = lambda x: x.replace(' ', '_').lower(), inplace=True)\n",
    "    \n",
    "    return data"
   ]
  },
  {
   "cell_type": "code",
   "execution_count": 56,
   "metadata": {
    "collapsed": true
   },
   "outputs": [],
   "source": [
    "def exe_sql_query(data, query):\n",
    "    '''\n",
    "    Receives a DataFrame and a String (SQL query)\n",
    "    Execute SQL query and returns a DataFrame\n",
    "    '''\n",
    "\n",
    "    q = \"\"\"\n",
    "        {0}\n",
    "    \"\"\".format(query)\n",
    "\n",
    "    #Execute your SQL command against the pandas frame\n",
    "    # OBS: case sensitive\n",
    "    solution = pdsql.sqldf(q, locals())\n",
    "    return solution"
   ]
  },
  {
   "cell_type": "code",
   "execution_count": 57,
   "metadata": {
    "collapsed": true
   },
   "outputs": [],
   "source": [
    "def get_rainy_days(data):\n",
    "    query = \"\"\"\n",
    "        SELECT entriesn_hourly FROM data WHERE rain > 0;\n",
    "    \"\"\"\n",
    "\n",
    "    return exe_sql_query(data, query)"
   ]
  },
  {
   "cell_type": "code",
   "execution_count": 58,
   "metadata": {
    "collapsed": true
   },
   "outputs": [],
   "source": [
    "def get_not_rainy_days(data):\n",
    "    query = \"\"\"\n",
    "        SELECT entriesn_hourly FROM data WHERE rain == 0;\n",
    "    \"\"\"\n",
    "\n",
    "    return exe_sql_query(data, query)"
   ]
  },
  {
   "cell_type": "markdown",
   "metadata": {},
   "source": [
    "## Quiz 1: Exploratory Data Analysis\n",
    "Before perform any analysis, it might be useful to take a look at the data we're hoping to analyze. More specifically, let's examine the hourly entries in our NYC subway data and determine what distribution the data follows. \n",
    "\n",
    "This data is stored in a datafram called turnstile_weather under the ['ENTRIESn_hourly'] column.\n",
    "\n",
    "* Let's plot two histograms on the same axes to show hourly entries when raining vs. when not raining. \n",
    "\n",
    "    * Here's an example on how to plot histograms with pandas and matplotlib:\n",
    "    \n",
    "    turnstile_weather['column_to_graph'].hist()\n",
    "    \n",
    "You can read a bit about using matplotlib and pandas to plot histograms here: http://pandas.pydata.org/pandas-docs/stable/visualization.html#histograms\n",
    "    \n",
    "You can see the information contained within the turnstile weather data here: https://s3.amazonaws.com/content.udacity-data.com/courses/ud359/turnstile_data_master_with_weather.csv"
   ]
  },
  {
   "cell_type": "code",
   "execution_count": 59,
   "metadata": {
    "collapsed": true
   },
   "outputs": [],
   "source": [
    "import numpy as np\n",
    "import pandas as pd\n",
    "import pandasql as pdsql\n",
    "\n",
    "%matplotlib inline\n",
    "import matplotlib.pyplot as plt\n",
    "\n",
    "\n",
    "import os"
   ]
  },
  {
   "cell_type": "code",
   "execution_count": 60,
   "metadata": {
    "collapsed": true
   },
   "outputs": [],
   "source": [
    "def entries_histogram(rainy_data, not_rainy_data):\n",
    "    \n",
    "    df = pd.DataFrame({'Rain': rainy_data['entriesn_hourly'], 'No Rain': not_rainy_data['entriesn_hourly']}, columns=['Rain', 'No Rain'])\n",
    "    \n",
    "    df.hist()\n",
    "    df.plot.hist(alpha=0.4)\n",
    "    df.plot.hist(stacked=True, bins=20)\n",
    "\n"
   ]
  },
  {
   "cell_type": "code",
   "execution_count": 61,
   "metadata": {},
   "outputs": [
    {
     "name": "stdout",
     "output_type": "stream",
     "text": [
      "        unnamed:_0  unit       daten     timen  hour    descn  \\\n",
      "0                0  R001  2011-05-01  01:00:00     1  REGULAR   \n",
      "1                1  R001  2011-05-01  05:00:00     5  REGULAR   \n",
      "2                2  R001  2011-05-01  09:00:00     9  REGULAR   \n",
      "3                3  R001  2011-05-01  13:00:00    13  REGULAR   \n",
      "4                4  R001  2011-05-01  17:00:00    17  REGULAR   \n",
      "5                5  R001  2011-05-01  21:00:00    21  REGULAR   \n",
      "6                6  R002  2011-05-01  01:00:00     1  REGULAR   \n",
      "7                7  R002  2011-05-01  05:00:00     5  REGULAR   \n",
      "8                8  R002  2011-05-01  09:00:00     9  REGULAR   \n",
      "9                9  R002  2011-05-01  13:00:00    13  REGULAR   \n",
      "10              10  R002  2011-05-01  17:00:00    17  REGULAR   \n",
      "11              11  R002  2011-05-01  21:00:00    21  REGULAR   \n",
      "12              12  R003  2011-05-01  00:00:00     0  REGULAR   \n",
      "13              13  R003  2011-05-01  04:00:00     4  REGULAR   \n",
      "14              14  R003  2011-05-01  12:00:00    12  REGULAR   \n",
      "15              15  R003  2011-05-01  16:00:00    16  REGULAR   \n",
      "16              16  R003  2011-05-01  20:00:00    20  REGULAR   \n",
      "17              17  R004  2011-05-01  00:00:00     0  REGULAR   \n",
      "18              18  R004  2011-05-01  04:00:00     4  REGULAR   \n",
      "19              19  R004  2011-05-01  08:00:00     8  REGULAR   \n",
      "20              20  R004  2011-05-01  12:00:00    12  REGULAR   \n",
      "21              21  R004  2011-05-01  16:00:00    16  REGULAR   \n",
      "22              22  R004  2011-05-01  20:00:00    20  REGULAR   \n",
      "23              23  R005  2011-05-01  00:00:00     0  REGULAR   \n",
      "24              24  R005  2011-05-01  04:00:00     4  REGULAR   \n",
      "25              25  R005  2011-05-01  12:00:00    12  REGULAR   \n",
      "26              26  R005  2011-05-01  16:00:00    16  REGULAR   \n",
      "27              27  R005  2011-05-01  20:00:00    20  REGULAR   \n",
      "28              28  R006  2011-05-01  00:00:00     0  REGULAR   \n",
      "29              29  R006  2011-05-01  04:00:00     4  REGULAR   \n",
      "...            ...   ...         ...       ...   ...      ...   \n",
      "131921      131921  R552  2011-05-30  17:55:25    17  REGULAR   \n",
      "131922      131922  R552  2011-05-30  18:09:09    18  REGULAR   \n",
      "131923      131923  R552  2011-05-30  18:15:11    18  REGULAR   \n",
      "131924      131924  R552  2011-05-30  18:27:32    18  REGULAR   \n",
      "131925      131925  R552  2011-05-30  18:46:54    18  REGULAR   \n",
      "131926      131926  R552  2011-05-30  19:09:29    19  REGULAR   \n",
      "131927      131927  R552  2011-05-30  19:11:30    19  REGULAR   \n",
      "131928      131928  R552  2011-05-30  19:16:44    19  REGULAR   \n",
      "131929      131929  R552  2011-05-30  19:23:45    19  REGULAR   \n",
      "131930      131930  R552  2011-05-30  19:36:27    19  REGULAR   \n",
      "131931      131931  R552  2011-05-30  19:38:47    19  REGULAR   \n",
      "131932      131932  R552  2011-05-30  19:52:07    19  REGULAR   \n",
      "131933      131933  R552  2011-05-30  20:10:01    20  REGULAR   \n",
      "131934      131934  R552  2011-05-30  20:17:36    20  REGULAR   \n",
      "131935      131935  R552  2011-05-30  20:23:06    20  REGULAR   \n",
      "131936      131936  R552  2011-05-30  20:51:44    20  REGULAR   \n",
      "131937      131937  R552  2011-05-30  20:58:04    20  REGULAR   \n",
      "131938      131938  R552  2011-05-30  20:58:21    20  REGULAR   \n",
      "131939      131939  R552  2011-05-30  21:14:49    21  REGULAR   \n",
      "131940      131940  R552  2011-05-30  21:21:28    21  REGULAR   \n",
      "131941      131941  R552  2011-05-30  22:07:25    22  REGULAR   \n",
      "131942      131942  R552  2011-05-30  22:21:09    22  REGULAR   \n",
      "131943      131943  R552  2011-05-30  22:27:11    22  REGULAR   \n",
      "131944      131944  R552  2011-05-30  22:39:32    22  REGULAR   \n",
      "131945      131945  R552  2011-05-30  22:58:54    22  REGULAR   \n",
      "131946      131946  R552  2011-05-30  23:21:29    23  REGULAR   \n",
      "131947      131947  R552  2011-05-30  23:23:30    23  REGULAR   \n",
      "131948      131948  R552  2011-05-30  23:28:44    23  REGULAR   \n",
      "131949      131949  R552  2011-05-30  23:35:45    23  REGULAR   \n",
      "131950      131950  R552  2011-05-30  23:50:47    23  REGULAR   \n",
      "\n",
      "        entriesn_hourly  exitsn_hourly  maxpressurei  maxdewpti   ...     \\\n",
      "0                   0.0            0.0         30.31       42.0   ...      \n",
      "1                 217.0          553.0         30.31       42.0   ...      \n",
      "2                 890.0         1262.0         30.31       42.0   ...      \n",
      "3                2451.0         3708.0         30.31       42.0   ...      \n",
      "4                4400.0         2501.0         30.31       42.0   ...      \n",
      "5                3372.0         2122.0         30.31       42.0   ...      \n",
      "6                   0.0            0.0         30.31       42.0   ...      \n",
      "7                  42.0           66.0         30.31       42.0   ...      \n",
      "8                  50.0          125.0         30.31       42.0   ...      \n",
      "9                 316.0          716.0         30.31       42.0   ...      \n",
      "10                633.0          968.0         30.31       42.0   ...      \n",
      "11                639.0          566.0         30.31       42.0   ...      \n",
      "12                  0.0            0.0         30.31       42.0   ...      \n",
      "13                  0.0            0.0         30.31       42.0   ...      \n",
      "14                  0.0            0.0         30.31       42.0   ...      \n",
      "15                  0.0            0.0         30.31       42.0   ...      \n",
      "16                  0.0            0.0         30.31       42.0   ...      \n",
      "17                  0.0            0.0         30.31       42.0   ...      \n",
      "18                  0.0            0.0         30.31       42.0   ...      \n",
      "19                  0.0            0.0         30.31       42.0   ...      \n",
      "20                  0.0            0.0         30.31       42.0   ...      \n",
      "21                  0.0            0.0         30.31       42.0   ...      \n",
      "22                  0.0            0.0         30.31       42.0   ...      \n",
      "23                  0.0            0.0         30.31       42.0   ...      \n",
      "24                  0.0            2.0         30.31       42.0   ...      \n",
      "25                  0.0            2.0         30.31       42.0   ...      \n",
      "26                  1.0            7.0         30.31       42.0   ...      \n",
      "27                  0.0            0.0         30.31       42.0   ...      \n",
      "28                  0.0            0.0         30.31       42.0   ...      \n",
      "29                  0.0            1.0         30.31       42.0   ...      \n",
      "...                 ...            ...           ...        ...   ...      \n",
      "131921              6.0            2.0         30.13       70.0   ...      \n",
      "131922            192.0           55.0         30.13       70.0   ...      \n",
      "131923            350.0           90.0         30.13       70.0   ...      \n",
      "131924             25.0            3.0         30.13       70.0   ...      \n",
      "131925              0.0            0.0         30.13       70.0   ...      \n",
      "131926             30.0            2.0         30.13       70.0   ...      \n",
      "131927            208.0          998.0         30.13       70.0   ...      \n",
      "131928            107.0          199.0         30.13       70.0   ...      \n",
      "131929            139.0           38.0         30.13       70.0   ...      \n",
      "131930            331.0          399.0         30.13       70.0   ...      \n",
      "131931            275.0           71.0         30.13       70.0   ...      \n",
      "131932            133.0           39.0         30.13       70.0   ...      \n",
      "131933              7.0          332.0         30.13       70.0   ...      \n",
      "131934            128.0          447.0         30.13       70.0   ...      \n",
      "131935            142.0          677.0         30.13       70.0   ...      \n",
      "131936              0.0            0.0         30.13       70.0   ...      \n",
      "131937            248.0          257.0         30.13       70.0   ...      \n",
      "131938             62.0           32.0         30.13       70.0   ...      \n",
      "131939            116.0          726.0         30.13       70.0   ...      \n",
      "131940             68.0          115.0         30.13       70.0   ...      \n",
      "131941              7.0            4.0         30.13       70.0   ...      \n",
      "131942             80.0           63.0         30.13       70.0   ...      \n",
      "131943            195.0          207.0         30.13       70.0   ...      \n",
      "131944             18.0            4.0         30.13       70.0   ...      \n",
      "131945              0.0            0.0         30.13       70.0   ...      \n",
      "131946             19.0           14.0         30.13       70.0   ...      \n",
      "131947            158.0         1022.0         30.13       70.0   ...      \n",
      "131948             54.0          275.0         30.13       70.0   ...      \n",
      "131949             59.0           46.0         30.13       70.0   ...      \n",
      "131950            123.0          108.0         30.13       70.0   ...      \n",
      "\n",
      "        meandewpti  meanpressurei  fog  rain  meanwindspdi  mintempi  \\\n",
      "0             39.0          30.27  0.0   0.0           5.0      50.0   \n",
      "1             39.0          30.27  0.0   0.0           5.0      50.0   \n",
      "2             39.0          30.27  0.0   0.0           5.0      50.0   \n",
      "3             39.0          30.27  0.0   0.0           5.0      50.0   \n",
      "4             39.0          30.27  0.0   0.0           5.0      50.0   \n",
      "5             39.0          30.27  0.0   0.0           5.0      50.0   \n",
      "6             39.0          30.27  0.0   0.0           5.0      50.0   \n",
      "7             39.0          30.27  0.0   0.0           5.0      50.0   \n",
      "8             39.0          30.27  0.0   0.0           5.0      50.0   \n",
      "9             39.0          30.27  0.0   0.0           5.0      50.0   \n",
      "10            39.0          30.27  0.0   0.0           5.0      50.0   \n",
      "11            39.0          30.27  0.0   0.0           5.0      50.0   \n",
      "12            39.0          30.27  0.0   0.0           5.0      50.0   \n",
      "13            39.0          30.27  0.0   0.0           5.0      50.0   \n",
      "14            39.0          30.27  0.0   0.0           5.0      50.0   \n",
      "15            39.0          30.27  0.0   0.0           5.0      50.0   \n",
      "16            39.0          30.27  0.0   0.0           5.0      50.0   \n",
      "17            39.0          30.27  0.0   0.0           5.0      50.0   \n",
      "18            39.0          30.27  0.0   0.0           5.0      50.0   \n",
      "19            39.0          30.27  0.0   0.0           5.0      50.0   \n",
      "20            39.0          30.27  0.0   0.0           5.0      50.0   \n",
      "21            39.0          30.27  0.0   0.0           5.0      50.0   \n",
      "22            39.0          30.27  0.0   0.0           5.0      50.0   \n",
      "23            39.0          30.27  0.0   0.0           5.0      50.0   \n",
      "24            39.0          30.27  0.0   0.0           5.0      50.0   \n",
      "25            39.0          30.27  0.0   0.0           5.0      50.0   \n",
      "26            39.0          30.27  0.0   0.0           5.0      50.0   \n",
      "27            39.0          30.27  0.0   0.0           5.0      50.0   \n",
      "28            39.0          30.27  0.0   0.0           5.0      50.0   \n",
      "29            39.0          30.27  0.0   0.0           5.0      50.0   \n",
      "...            ...            ...  ...   ...           ...       ...   \n",
      "131921        68.0          30.08  0.0   1.0           5.0      70.0   \n",
      "131922        68.0          30.08  0.0   1.0           5.0      70.0   \n",
      "131923        68.0          30.08  0.0   1.0           5.0      70.0   \n",
      "131924        68.0          30.08  0.0   1.0           5.0      70.0   \n",
      "131925        68.0          30.08  0.0   1.0           5.0      70.0   \n",
      "131926        68.0          30.08  0.0   1.0           5.0      70.0   \n",
      "131927        68.0          30.08  0.0   1.0           5.0      70.0   \n",
      "131928        68.0          30.08  0.0   1.0           5.0      70.0   \n",
      "131929        68.0          30.08  0.0   1.0           5.0      70.0   \n",
      "131930        68.0          30.08  0.0   1.0           5.0      70.0   \n",
      "131931        68.0          30.08  0.0   1.0           5.0      70.0   \n",
      "131932        68.0          30.08  0.0   1.0           5.0      70.0   \n",
      "131933        68.0          30.08  0.0   1.0           5.0      70.0   \n",
      "131934        68.0          30.08  0.0   1.0           5.0      70.0   \n",
      "131935        68.0          30.08  0.0   1.0           5.0      70.0   \n",
      "131936        68.0          30.08  0.0   1.0           5.0      70.0   \n",
      "131937        68.0          30.08  0.0   1.0           5.0      70.0   \n",
      "131938        68.0          30.08  0.0   1.0           5.0      70.0   \n",
      "131939        68.0          30.08  0.0   1.0           5.0      70.0   \n",
      "131940        68.0          30.08  0.0   1.0           5.0      70.0   \n",
      "131941        68.0          30.08  0.0   1.0           5.0      70.0   \n",
      "131942        68.0          30.08  0.0   1.0           5.0      70.0   \n",
      "131943        68.0          30.08  0.0   1.0           5.0      70.0   \n",
      "131944        68.0          30.08  0.0   1.0           5.0      70.0   \n",
      "131945        68.0          30.08  0.0   1.0           5.0      70.0   \n",
      "131946        68.0          30.08  0.0   1.0           5.0      70.0   \n",
      "131947        68.0          30.08  0.0   1.0           5.0      70.0   \n",
      "131948        68.0          30.08  0.0   1.0           5.0      70.0   \n",
      "131949        68.0          30.08  0.0   1.0           5.0      70.0   \n",
      "131950        68.0          30.08  0.0   1.0           5.0      70.0   \n",
      "\n",
      "        meantempi  maxtempi  precipi  thunder  \n",
      "0            60.0      69.0     0.00      0.0  \n",
      "1            60.0      69.0     0.00      0.0  \n",
      "2            60.0      69.0     0.00      0.0  \n",
      "3            60.0      69.0     0.00      0.0  \n",
      "4            60.0      69.0     0.00      0.0  \n",
      "5            60.0      69.0     0.00      0.0  \n",
      "6            60.0      69.0     0.00      0.0  \n",
      "7            60.0      69.0     0.00      0.0  \n",
      "8            60.0      69.0     0.00      0.0  \n",
      "9            60.0      69.0     0.00      0.0  \n",
      "10           60.0      69.0     0.00      0.0  \n",
      "11           60.0      69.0     0.00      0.0  \n",
      "12           60.0      69.0     0.00      0.0  \n",
      "13           60.0      69.0     0.00      0.0  \n",
      "14           60.0      69.0     0.00      0.0  \n",
      "15           60.0      69.0     0.00      0.0  \n",
      "16           60.0      69.0     0.00      0.0  \n",
      "17           60.0      69.0     0.00      0.0  \n",
      "18           60.0      69.0     0.00      0.0  \n",
      "19           60.0      69.0     0.00      0.0  \n",
      "20           60.0      69.0     0.00      0.0  \n",
      "21           60.0      69.0     0.00      0.0  \n",
      "22           60.0      69.0     0.00      0.0  \n",
      "23           60.0      69.0     0.00      0.0  \n",
      "24           60.0      69.0     0.00      0.0  \n",
      "25           60.0      69.0     0.00      0.0  \n",
      "26           60.0      69.0     0.00      0.0  \n",
      "27           60.0      69.0     0.00      0.0  \n",
      "28           60.0      69.0     0.00      0.0  \n",
      "29           60.0      69.0     0.00      0.0  \n",
      "...           ...       ...      ...      ...  \n",
      "131921       78.0      86.0     0.29      0.0  \n",
      "131922       78.0      86.0     0.29      0.0  \n",
      "131923       78.0      86.0     0.29      0.0  \n",
      "131924       78.0      86.0     0.29      0.0  \n",
      "131925       78.0      86.0     0.29      0.0  \n",
      "131926       78.0      86.0     0.29      0.0  \n",
      "131927       78.0      86.0     0.29      0.0  \n",
      "131928       78.0      86.0     0.29      0.0  \n",
      "131929       78.0      86.0     0.29      0.0  \n",
      "131930       78.0      86.0     0.29      0.0  \n",
      "131931       78.0      86.0     0.29      0.0  \n",
      "131932       78.0      86.0     0.29      0.0  \n",
      "131933       78.0      86.0     0.29      0.0  \n",
      "131934       78.0      86.0     0.29      0.0  \n",
      "131935       78.0      86.0     0.29      0.0  \n",
      "131936       78.0      86.0     0.29      0.0  \n",
      "131937       78.0      86.0     0.29      0.0  \n",
      "131938       78.0      86.0     0.29      0.0  \n",
      "131939       78.0      86.0     0.29      0.0  \n",
      "131940       78.0      86.0     0.29      0.0  \n",
      "131941       78.0      86.0     0.29      0.0  \n",
      "131942       78.0      86.0     0.29      0.0  \n",
      "131943       78.0      86.0     0.29      0.0  \n",
      "131944       78.0      86.0     0.29      0.0  \n",
      "131945       78.0      86.0     0.29      0.0  \n",
      "131946       78.0      86.0     0.29      0.0  \n",
      "131947       78.0      86.0     0.29      0.0  \n",
      "131948       78.0      86.0     0.29      0.0  \n",
      "131949       78.0      86.0     0.29      0.0  \n",
      "131950       78.0      86.0     0.29      0.0  \n",
      "\n",
      "[131951 rows x 22 columns]\n"
     ]
    }
   ],
   "source": [
    "weather_data = read_csv_data('turnstile-data-master-with_weather.csv',input_dir())\n",
    "print (weather_data)"
   ]
  },
  {
   "cell_type": "code",
   "execution_count": 62,
   "metadata": {},
   "outputs": [],
   "source": [
    "rainy_data = weather_data[weather_data['rain'] > 0]\n",
    "not_rainy_data = weather_data[weather_data['rain'] == 0]    \n",
    "# OR USE SQL (slow):\n",
    "# rainy_data = get_rainy_days(weather_data)\n",
    "# not_rainy_data = get_not_rainy_days(weather_data)"
   ]
  },
  {
   "cell_type": "code",
   "execution_count": 63,
   "metadata": {},
   "outputs": [
    {
     "data": {
      "image/png": "[encoded data removed]",
      "text/plain": [
       "<matplotlib.figure.Figure at 0x1154094e0>"
      ]
     },
     "metadata": {},
     "output_type": "display_data"
    },
    {
     "data": {
      "image/png": "[encoded data removed]",
      "text/plain": [
       "<matplotlib.figure.Figure at 0x116a139b0>"
      ]
     },
     "metadata": {},
     "output_type": "display_data"
    },
    {
     "data": {
      "image/png": "[encoded data removed]",
      "text/plain": [
       "<matplotlib.figure.Figure at 0x11549c160>"
      ]
     },
     "metadata": {},
     "output_type": "display_data"
    }
   ],
   "source": [
    "entries_histogram(rainy_data, not_rainy_data)"
   ]
  },
  {
   "cell_type": "markdown",
   "metadata": {},
   "source": [
    "## Quiz 2: Normally distributed?\n",
    "No."
   ]
  },
  {
   "cell_type": "markdown",
   "metadata": {},
   "source": [
    "## Quiz 3: Mann-Whitney U-Test\n",
    "This function will consume the turnstile_weather dataframe containing the final turnstile weather data. \n",
    "    \n",
    "Take the means and run the Mann Whitney U-test on the ENTRIESn_hourly column in the turnstile_weather dataframe.\n",
    "    \n",
    "This function should return:\n",
    "\n",
    "    1) the mean of entries with rain\n",
    "    \n",
    "    2) the mean of entries without rain\n",
    "    \n",
    "    3) the Mann-Whitney U-statistic and p-value comparing the number of entries\n",
    "       with rain and the number of entries without rain\n",
    "    \n",
    "* use scipy's Mann-Whitney implementation\n",
    "* use numpy's mean function.\n",
    "    \n",
    "Here are the functions' documentation:\n",
    "   * http://docs.scipy.org/doc/scipy/reference/generated/scipy.stats.mannwhitneyu.html\n",
    "   * http://docs.scipy.org/doc/numpy/reference/generated/numpy.mean.html"
   ]
  },
  {
   "cell_type": "code",
   "execution_count": 64,
   "metadata": {
    "collapsed": true
   },
   "outputs": [],
   "source": [
    "import scipy\n",
    "import scipy.stats"
   ]
  },
  {
   "cell_type": "code",
   "execution_count": 65,
   "metadata": {
    "collapsed": true
   },
   "outputs": [],
   "source": [
    "def mann_whitney_plus_means(rainy_data, not_rainy_data, column):\n",
    "    with_rain_mean = np.mean(rainy_data[column])\n",
    "    without_rain_mean = np.mean(not_rainy_data[column])\n",
    "    mann_whitney = scipy.stats.mannwhitneyu(rainy_data[column], not_rainy_data[column], use_continuity=True, alternative=None)\n",
    "\n",
    "    U = mann_whitney.statistic\n",
    "    p = mann_whitney.pvalue\n",
    "    \n",
    "    return with_rain_mean, without_rain_mean, U, p "
   ]
  },
  {
   "cell_type": "code",
   "execution_count": 66,
   "metadata": {
    "collapsed": true
   },
   "outputs": [],
   "source": [
    "rainy_data = weather_data[weather_data['rain'] > 0]\n",
    "not_rainy_data = weather_data[weather_data['rain'] == 0]\n",
    "    "
   ]
  },
  {
   "cell_type": "code",
   "execution_count": 67,
   "metadata": {},
   "outputs": [
    {
     "name": "stdout",
     "output_type": "stream",
     "text": [
      "(1105.4463767458733, 1090.278780151855, 1924409167.0, 0.024940392294493356)\n"
     ]
    }
   ],
   "source": [
    "mann_whitney_results = mann_whitney_plus_means(rainy_data, not_rainy_data, 'entriesn_hourly')\n",
    "print(mann_whitney_results)"
   ]
  },
  {
   "cell_type": "markdown",
   "metadata": {},
   "source": [
    "### Test Compare (Significance level of 95%)"
   ]
  },
  {
   "cell_type": "code",
   "execution_count": 68,
   "metadata": {
    "collapsed": true
   },
   "outputs": [],
   "source": [
    "def test_compare(pvalue, uvalue):\n",
    "    # ex: pvalue = 5% -> there is a 5% chance of finding a difference (probability of rejecting the null hypothesis when it is true)\n",
    "    # as large as (or larger than) the one in our study given that the null hypothesis is true\n",
    "    # A low P value suggests that the sample provides enough evidence that we can reject \n",
    "    # the null hypothesis for the entire population.\n",
    "    # pvalue tells the strength of the evidence\n",
    "\n",
    "    # With a significance level of 95% \n",
    "    if pvalue >= 0.05:\n",
    "        # No difference\n",
    "        return ('No difference', (uvalue,pvalue))\n",
    "    else:\n",
    "        # There is a difference\n",
    "        return ('There is a difference', (uvalue,pvalue))"
   ]
  },
  {
   "cell_type": "code",
   "execution_count": 69,
   "metadata": {},
   "outputs": [
    {
     "data": {
      "text/plain": [
       "('There is a difference', (1924409167.0, 0.024940392294493356))"
      ]
     },
     "execution_count": 69,
     "metadata": {},
     "output_type": "execute_result"
    }
   ],
   "source": [
    "test_compare(mann_whitney_results[3],mann_whitney_results[2])"
   ]
  },
  {
   "cell_type": "markdown",
   "metadata": {},
   "source": [
    "## Quiz 4: Ridership on Rainy vs Nonrainy Days\n",
    "* Is the distribution of the number of entries statiscally different between rainy & non rainy days?\n",
    "\n",
    "Yes. Using a singnificance level of 95% is possible to conclude that there is a difference (pvalue = 0.02494 < 0.05)."
   ]
  },
  {
   "cell_type": "markdown",
   "metadata": {},
   "source": [
    "## Quiz 5: Linear Regression\n",
    "\n",
    "1) Implement compute_cost()\n",
    "\n",
    "2) Implement gradient_descent()\n",
    "\n",
    "3) Select features (in the predictions procedure)\n",
    "\n",
    "4) Make predictions"
   ]
  },
  {
   "cell_type": "code",
   "execution_count": 73,
   "metadata": {},
   "outputs": [
    {
     "ename": "ModuleNotFoundError",
     "evalue": "No module named 'ggplot'",
     "output_type": "error",
     "traceback": [
      "\u001b[0;31m---------------------------------------------------------------------------\u001b[0m",
      "\u001b[0;31mModuleNotFoundError\u001b[0m                       Traceback (most recent call last)",
      "\u001b[0;32m<ipython-input-73-81c6de61803e>\u001b[0m in \u001b[0;36m<module>\u001b[0;34m()\u001b[0m\n\u001b[1;32m      1\u001b[0m \u001b[0;32mimport\u001b[0m \u001b[0mnumpy\u001b[0m \u001b[0;32mas\u001b[0m \u001b[0mnp\u001b[0m\u001b[0;34m\u001b[0m\u001b[0m\n\u001b[1;32m      2\u001b[0m \u001b[0;32mimport\u001b[0m \u001b[0mpandas\u001b[0m \u001b[0;32mas\u001b[0m \u001b[0mpd\u001b[0m\u001b[0;34m\u001b[0m\u001b[0m\n\u001b[0;32m----> 3\u001b[0;31m \u001b[0;32mimport\u001b[0m \u001b[0mggplot\u001b[0m \u001b[0;32mas\u001b[0m \u001b[0mggp\u001b[0m\u001b[0;34m\u001b[0m\u001b[0m\n\u001b[0m",
      "\u001b[0;31mModuleNotFoundError\u001b[0m: No module named 'ggplot'"
     ]
    }
   ],
   "source": [
    "import numpy as np\n",
    "import pandas as pd\n",
    "import ggplot as ggp"
   ]
  },
  {
   "cell_type": "markdown",
   "metadata": {},
   "source": [
    "### Normalize features"
   ]
  },
  {
   "cell_type": "code",
   "execution_count": 74,
   "metadata": {
    "collapsed": true
   },
   "outputs": [],
   "source": [
    "def normalize_features(df):\n",
    "    '''\n",
    "    Normalize the features in the data set.\n",
    "    '''\n",
    "    mu = df.mean()\n",
    "    sigma = df.std()\n",
    "    \n",
    "    if (sigma == 0).any():\n",
    "        raise Exception(\"One or more features had the same value for all samples, and thus could \" + \\\n",
    "                         \"not be normalized. Please do not include features with only a single value \" + \\\n",
    "                         \"in your model.\")\n",
    "    df_normalized = (df - df.mean()) / df.std()\n",
    "\n",
    "    return df_normalized, mu, sigma"
   ]
  },
  {
   "cell_type": "markdown",
   "metadata": {},
   "source": [
    "### Compute cost"
   ]
  },
  {
   "cell_type": "code",
   "execution_count": 80,
   "metadata": {
    "collapsed": true
   },
   "outputs": [],
   "source": [
    "def compute_cost(features, values, theta):\n",
    "    \"\"\"\n",
    "    Compute the cost function given a set of features / values, \n",
    "    and the values for thetas.\n",
    "    \"\"\"\n",
    "    \n",
    "    m = len(values)\n",
    "    sum_of_square_errors = np.square(np.dot(features, theta) - values).sum()\n",
    "    cost = sum_of_square_errors / (2*m)\n",
    "    \n",
    "    return cost"
   ]
  },
  {
   "cell_type": "markdown",
   "metadata": {},
   "source": [
    "### Gradient descent"
   ]
  },
  {
   "cell_type": "code",
   "execution_count": 81,
   "metadata": {},
   "outputs": [],
   "source": [
    "def gradient_descent(features, values, theta, alpha, num_iterations):\n",
    "    \"\"\"\n",
    "    Perform gradient descent given a data set with an arbitrary number of features.\n",
    "    \"\"\"\n",
    "    \n",
    "    m = len(values)\n",
    "    cost_history = []\n",
    "\n",
    "    for i in range(num_iterations):\n",
    "        # update values\n",
    "        # dot product of the features and theta\n",
    "        predicted_values = np.dot(features, theta)\n",
    "        # update theta\n",
    "        theta = theta - alpha / m * np.dot((predicted_values - values), features)\n",
    "        \n",
    "        cost = compute_cost(features, values, theta)\n",
    "        cost_history.append(cost)\n",
    "    \n",
    "    return theta, pd.Series(cost_history)  "
   ]
  },
  {
   "cell_type": "markdown",
   "metadata": {},
   "source": [
    "### Predictions \n",
    "\n",
    "The NYC turnstile data is stored in a pandas dataframe called weather_turnstile. Using the information stored in the dataframe, let's predict the ridership of the NYC subway using linear regression with gradient descent.\n",
    "    \n",
    "* You can download the complete turnstile weather dataframe here:\n",
    "    https://www.dropbox.com/s/meyki2wl9xfa7yk/turnstile_data_master_with_weather.csv    \n",
    "    \n",
    "* The prediction should have a R^2 value of 0.40 or better.\n",
    "\n",
    "* You need to experiment using various input features contained in the dataframe. \n",
    " \n",
    "* We recommend that you don't use the EXITSn_hourly feature as an input to the linear model because we cannot use it as a predictor: we cannot use exits counts as a way to predict entry counts. "
   ]
  },
  {
   "cell_type": "code",
   "execution_count": 78,
   "metadata": {
    "collapsed": true
   },
   "outputs": [],
   "source": [
    "\n",
    "def predictions(dataframe):\n",
    "    # Select Features (try different features!)\n",
    "    features = dataframe[['rain', 'precipi', 'Hour', 'meantempi']]\n",
    "    \n",
    "    # Add UNIT to features using dummy variables\n",
    "    dummy_units = pandas.get_dummies(dataframe['UNIT'], prefix='unit')\n",
    "    features = features.join(dummy_units)\n",
    "    \n",
    "    # Values\n",
    "    values = dataframe['ENTRIESn_hourly']\n",
    "    m = len(values)\n",
    "\n",
    "    features, mu, sigma = normalize_features(features)\n",
    "    features['ones'] = np.ones(m) # Add a column of 1s (y intercept)\n",
    "    \n",
    "    # Convert features and values to numpy arrays\n",
    "    features_array = np.array(features)\n",
    "    values_array = np.array(values)\n",
    "\n",
    "    # Set values for alpha, number of iterations.\n",
    "    alpha = 0.1 # please feel free to change this value\n",
    "    num_iterations = 75 # please feel free to change this value\n",
    "\n",
    "    # Initialize theta, perform gradient descent\n",
    "    theta_gradient_descent = np.zeros(len(features.columns))\n",
    "    theta_gradient_descent, cost_history = gradient_descent(features_array, \n",
    "                                                            values_array, \n",
    "                                                            theta_gradient_descent, \n",
    "                                                            alpha, \n",
    "                                                            num_iterations)\n",
    "    \n",
    "    plot = None\n",
    "    # -------------------------------------------------\n",
    "    # Uncomment the next line to see your cost history\n",
    "    # -------------------------------------------------\n",
    "    # plot = plot_cost_history(alpha, cost_history)\n",
    "    # \n",
    "    # Please note, there is a possibility that plotting\n",
    "    # this in addition to your calculation will exceed \n",
    "    # the 30 second limit on the compute servers.\n",
    "    \n",
    "    predictions = np.dot(features_array, theta_gradient_descent)\n",
    "    return predictions, plot\n"
   ]
  },
  {
   "cell_type": "markdown",
   "metadata": {},
   "source": [
    "### Plot"
   ]
  },
  {
   "cell_type": "code",
   "execution_count": 79,
   "metadata": {
    "collapsed": true
   },
   "outputs": [],
   "source": [
    "def plot_cost_history(alpha, cost_history):\n",
    "   \"\"\"This function is for viewing the plot of your cost history.\n",
    "   You can run it by uncommenting this\n",
    "\n",
    "       plot_cost_history(alpha, cost_history) \n",
    "\n",
    "   call in predictions.\n",
    "   \n",
    "   If you want to run this locally, you should print the return value\n",
    "   from this function.\n",
    "   \"\"\"\n",
    "   cost_df = pandas.DataFrame({\n",
    "      'Cost_History': cost_history,\n",
    "      'Iteration': range(len(cost_history))\n",
    "   })\n",
    "   return ggplot(cost_df, aes('Iteration', 'Cost_History')) + \\\n",
    "      geom_point() + ggtitle('Cost History for alpha = %.3f' % alpha )\n"
   ]
  },
  {
   "cell_type": "code",
   "execution_count": null,
   "metadata": {
    "collapsed": true
   },
   "outputs": [],
   "source": []
  }
 ],
 "metadata": {
  "kernelspec": {
   "display_name": "Python 3",
   "language": "python",
   "name": "python3"
  },
  "language_info": {
   "codemirror_mode": {
    "name": "ipython",
    "version": 3
   },
   "file_extension": ".py",
   "mimetype": "text/x-python",
   "name": "python",
   "nbconvert_exporter": "python",
   "pygments_lexer": "ipython3",
   "version": "3.6.3"
  }
 },
 "nbformat": 4,
 "nbformat_minor": 2
}
