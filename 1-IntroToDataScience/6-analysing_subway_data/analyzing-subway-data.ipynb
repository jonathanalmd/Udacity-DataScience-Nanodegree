{
 "cells": [
  {
   "cell_type": "markdown",
   "metadata": {},
   "source": [
    "# Lesson 6 - Problem Set 3: Analyzing Subway Data\n",
    "https://s3.amazonaws.com/content.udacity-data.com/courses/ud359/weather_underground.csv"
   ]
  },
  {
   "cell_type": "markdown",
   "metadata": {},
   "source": [
    "## Useful functions"
   ]
  },
  {
   "cell_type": "code",
   "execution_count": 2,
   "metadata": {
    "collapsed": true
   },
   "outputs": [],
   "source": [
    "def input_dir():\n",
    "    return os.getcwd() + '/data/input/'\n",
    "\n",
    "def output_dir():\n",
    "    return os.getcwd() + '/data/output/'"
   ]
  },
  {
   "cell_type": "code",
   "execution_count": 3,
   "metadata": {
    "collapsed": true
   },
   "outputs": [],
   "source": [
    "def read_csv_data(filename, input_dir):\n",
    "    '''\n",
    "    Receives a file name (csv)\n",
    "    Returns a DataFrame\n",
    "    '''\n",
    "    data = pd.read_csv(input_dir + filename)\n",
    "    \n",
    "    #Rename the columns by replacing spaces with underscores and setting all characters to lowercase\n",
    "    data.rename(columns = lambda x: x.replace(' ', '_').lower(), inplace=True)\n",
    "    \n",
    "    return data"
   ]
  },
  {
   "cell_type": "code",
   "execution_count": 4,
   "metadata": {
    "collapsed": true
   },
   "outputs": [],
   "source": [
    "def exe_sql_query(data, query):\n",
    "    '''\n",
    "    Receives a DataFrame and a String (SQL query)\n",
    "    Execute SQL query and returns a DataFrame\n",
    "    '''\n",
    "\n",
    "    q = \"\"\"\n",
    "        {0}\n",
    "    \"\"\".format(query)\n",
    "\n",
    "    #Execute your SQL command against the pandas frame\n",
    "    # OBS: case sensitive\n",
    "    solution = pdsql.sqldf(q, locals())\n",
    "    return solution"
   ]
  },
  {
   "cell_type": "code",
   "execution_count": 5,
   "metadata": {
    "collapsed": true
   },
   "outputs": [],
   "source": [
    "def get_rainy_days(data):\n",
    "    query = \"\"\"\n",
    "        SELECT entriesn_hourly FROM data WHERE rain > 0;\n",
    "    \"\"\"\n",
    "\n",
    "    return exe_sql_query(data, query)"
   ]
  },
  {
   "cell_type": "code",
   "execution_count": 6,
   "metadata": {
    "collapsed": true
   },
   "outputs": [],
   "source": [
    "def get_not_rainy_days(data):\n",
    "    query = \"\"\"\n",
    "        SELECT entriesn_hourly FROM data WHERE rain == 0;\n",
    "    \"\"\"\n",
    "\n",
    "    return exe_sql_query(data, query)"
   ]
  },
  {
   "cell_type": "markdown",
   "metadata": {},
   "source": [
    "## Quiz 1: Exploratory Data Analysis\n",
    "Before perform any analysis, it might be useful to take a look at the data we're hoping to analyze. More specifically, let's examine the hourly entries in our NYC subway data and determine what distribution the data follows. \n",
    "\n",
    "This data is stored in a datafram called turnstile_weather under the ['ENTRIESn_hourly'] column.\n",
    "\n",
    "* Let's plot two histograms on the same axes to show hourly entries when raining vs. when not raining. \n",
    "\n",
    "    * Here's an example on how to plot histograms with pandas and matplotlib:\n",
    "    \n",
    "    turnstile_weather['column_to_graph'].hist()\n",
    "    \n",
    "You can read a bit about using matplotlib and pandas to plot histograms here: http://pandas.pydata.org/pandas-docs/stable/visualization.html#histograms\n",
    "    \n",
    "You can see the information contained within the turnstile weather data here: https://s3.amazonaws.com/content.udacity-data.com/courses/ud359/turnstile_data_master_with_weather.csv"
   ]
  },
  {
   "cell_type": "code",
   "execution_count": 7,
   "metadata": {
    "collapsed": true
   },
   "outputs": [],
   "source": [
    "import numpy as np\n",
    "import pandas as pd\n",
    "import pandasql as pdsql\n",
    "\n",
    "%matplotlib inline\n",
    "import matplotlib.pyplot as plt\n",
    "\n",
    "\n",
    "import os"
   ]
  },
  {
   "cell_type": "code",
   "execution_count": 8,
   "metadata": {
    "collapsed": true
   },
   "outputs": [],
   "source": [
    "def entries_histogram(rainy_data, not_rainy_data):\n",
    "    \n",
    "    df = pd.DataFrame({'Rain': rainy_data['entriesn_hourly'], 'No Rain': not_rainy_data['entriesn_hourly']}, columns=['Rain', 'No Rain'])\n",
    "    \n",
    "    df.hist()\n",
    "    df.plot.hist(alpha=0.4)\n",
    "    df.plot.hist(stacked=True, bins=20)\n",
    "\n"
   ]
  },
  {
   "cell_type": "code",
   "execution_count": 9,
   "metadata": {},
   "outputs": [
    {
     "name": "stdout",
     "output_type": "stream",
     "text": [
      "        unnamed:_0  unit       daten     timen  hour    descn  \\\n",
      "0                0  R001  2011-05-01  01:00:00     1  REGULAR   \n",
      "1                1  R001  2011-05-01  05:00:00     5  REGULAR   \n",
      "2                2  R001  2011-05-01  09:00:00     9  REGULAR   \n",
      "3                3  R001  2011-05-01  13:00:00    13  REGULAR   \n",
      "4                4  R001  2011-05-01  17:00:00    17  REGULAR   \n",
      "5                5  R001  2011-05-01  21:00:00    21  REGULAR   \n",
      "6                6  R002  2011-05-01  01:00:00     1  REGULAR   \n",
      "7                7  R002  2011-05-01  05:00:00     5  REGULAR   \n",
      "8                8  R002  2011-05-01  09:00:00     9  REGULAR   \n",
      "9                9  R002  2011-05-01  13:00:00    13  REGULAR   \n",
      "10              10  R002  2011-05-01  17:00:00    17  REGULAR   \n",
      "11              11  R002  2011-05-01  21:00:00    21  REGULAR   \n",
      "12              12  R003  2011-05-01  00:00:00     0  REGULAR   \n",
      "13              13  R003  2011-05-01  04:00:00     4  REGULAR   \n",
      "14              14  R003  2011-05-01  12:00:00    12  REGULAR   \n",
      "15              15  R003  2011-05-01  16:00:00    16  REGULAR   \n",
      "16              16  R003  2011-05-01  20:00:00    20  REGULAR   \n",
      "17              17  R004  2011-05-01  00:00:00     0  REGULAR   \n",
      "18              18  R004  2011-05-01  04:00:00     4  REGULAR   \n",
      "19              19  R004  2011-05-01  08:00:00     8  REGULAR   \n",
      "20              20  R004  2011-05-01  12:00:00    12  REGULAR   \n",
      "21              21  R004  2011-05-01  16:00:00    16  REGULAR   \n",
      "22              22  R004  2011-05-01  20:00:00    20  REGULAR   \n",
      "23              23  R005  2011-05-01  00:00:00     0  REGULAR   \n",
      "24              24  R005  2011-05-01  04:00:00     4  REGULAR   \n",
      "25              25  R005  2011-05-01  12:00:00    12  REGULAR   \n",
      "26              26  R005  2011-05-01  16:00:00    16  REGULAR   \n",
      "27              27  R005  2011-05-01  20:00:00    20  REGULAR   \n",
      "28              28  R006  2011-05-01  00:00:00     0  REGULAR   \n",
      "29              29  R006  2011-05-01  04:00:00     4  REGULAR   \n",
      "...            ...   ...         ...       ...   ...      ...   \n",
      "131921      131921  R552  2011-05-30  17:55:25    17  REGULAR   \n",
      "131922      131922  R552  2011-05-30  18:09:09    18  REGULAR   \n",
      "131923      131923  R552  2011-05-30  18:15:11    18  REGULAR   \n",
      "131924      131924  R552  2011-05-30  18:27:32    18  REGULAR   \n",
      "131925      131925  R552  2011-05-30  18:46:54    18  REGULAR   \n",
      "131926      131926  R552  2011-05-30  19:09:29    19  REGULAR   \n",
      "131927      131927  R552  2011-05-30  19:11:30    19  REGULAR   \n",
      "131928      131928  R552  2011-05-30  19:16:44    19  REGULAR   \n",
      "131929      131929  R552  2011-05-30  19:23:45    19  REGULAR   \n",
      "131930      131930  R552  2011-05-30  19:36:27    19  REGULAR   \n",
      "131931      131931  R552  2011-05-30  19:38:47    19  REGULAR   \n",
      "131932      131932  R552  2011-05-30  19:52:07    19  REGULAR   \n",
      "131933      131933  R552  2011-05-30  20:10:01    20  REGULAR   \n",
      "131934      131934  R552  2011-05-30  20:17:36    20  REGULAR   \n",
      "131935      131935  R552  2011-05-30  20:23:06    20  REGULAR   \n",
      "131936      131936  R552  2011-05-30  20:51:44    20  REGULAR   \n",
      "131937      131937  R552  2011-05-30  20:58:04    20  REGULAR   \n",
      "131938      131938  R552  2011-05-30  20:58:21    20  REGULAR   \n",
      "131939      131939  R552  2011-05-30  21:14:49    21  REGULAR   \n",
      "131940      131940  R552  2011-05-30  21:21:28    21  REGULAR   \n",
      "131941      131941  R552  2011-05-30  22:07:25    22  REGULAR   \n",
      "131942      131942  R552  2011-05-30  22:21:09    22  REGULAR   \n",
      "131943      131943  R552  2011-05-30  22:27:11    22  REGULAR   \n",
      "131944      131944  R552  2011-05-30  22:39:32    22  REGULAR   \n",
      "131945      131945  R552  2011-05-30  22:58:54    22  REGULAR   \n",
      "131946      131946  R552  2011-05-30  23:21:29    23  REGULAR   \n",
      "131947      131947  R552  2011-05-30  23:23:30    23  REGULAR   \n",
      "131948      131948  R552  2011-05-30  23:28:44    23  REGULAR   \n",
      "131949      131949  R552  2011-05-30  23:35:45    23  REGULAR   \n",
      "131950      131950  R552  2011-05-30  23:50:47    23  REGULAR   \n",
      "\n",
      "        entriesn_hourly  exitsn_hourly  maxpressurei  maxdewpti   ...     \\\n",
      "0                   0.0            0.0         30.31       42.0   ...      \n",
      "1                 217.0          553.0         30.31       42.0   ...      \n",
      "2                 890.0         1262.0         30.31       42.0   ...      \n",
      "3                2451.0         3708.0         30.31       42.0   ...      \n",
      "4                4400.0         2501.0         30.31       42.0   ...      \n",
      "5                3372.0         2122.0         30.31       42.0   ...      \n",
      "6                   0.0            0.0         30.31       42.0   ...      \n",
      "7                  42.0           66.0         30.31       42.0   ...      \n",
      "8                  50.0          125.0         30.31       42.0   ...      \n",
      "9                 316.0          716.0         30.31       42.0   ...      \n",
      "10                633.0          968.0         30.31       42.0   ...      \n",
      "11                639.0          566.0         30.31       42.0   ...      \n",
      "12                  0.0            0.0         30.31       42.0   ...      \n",
      "13                  0.0            0.0         30.31       42.0   ...      \n",
      "14                  0.0            0.0         30.31       42.0   ...      \n",
      "15                  0.0            0.0         30.31       42.0   ...      \n",
      "16                  0.0            0.0         30.31       42.0   ...      \n",
      "17                  0.0            0.0         30.31       42.0   ...      \n",
      "18                  0.0            0.0         30.31       42.0   ...      \n",
      "19                  0.0            0.0         30.31       42.0   ...      \n",
      "20                  0.0            0.0         30.31       42.0   ...      \n",
      "21                  0.0            0.0         30.31       42.0   ...      \n",
      "22                  0.0            0.0         30.31       42.0   ...      \n",
      "23                  0.0            0.0         30.31       42.0   ...      \n",
      "24                  0.0            2.0         30.31       42.0   ...      \n",
      "25                  0.0            2.0         30.31       42.0   ...      \n",
      "26                  1.0            7.0         30.31       42.0   ...      \n",
      "27                  0.0            0.0         30.31       42.0   ...      \n",
      "28                  0.0            0.0         30.31       42.0   ...      \n",
      "29                  0.0            1.0         30.31       42.0   ...      \n",
      "...                 ...            ...           ...        ...   ...      \n",
      "131921              6.0            2.0         30.13       70.0   ...      \n",
      "131922            192.0           55.0         30.13       70.0   ...      \n",
      "131923            350.0           90.0         30.13       70.0   ...      \n",
      "131924             25.0            3.0         30.13       70.0   ...      \n",
      "131925              0.0            0.0         30.13       70.0   ...      \n",
      "131926             30.0            2.0         30.13       70.0   ...      \n",
      "131927            208.0          998.0         30.13       70.0   ...      \n",
      "131928            107.0          199.0         30.13       70.0   ...      \n",
      "131929            139.0           38.0         30.13       70.0   ...      \n",
      "131930            331.0          399.0         30.13       70.0   ...      \n",
      "131931            275.0           71.0         30.13       70.0   ...      \n",
      "131932            133.0           39.0         30.13       70.0   ...      \n",
      "131933              7.0          332.0         30.13       70.0   ...      \n",
      "131934            128.0          447.0         30.13       70.0   ...      \n",
      "131935            142.0          677.0         30.13       70.0   ...      \n",
      "131936              0.0            0.0         30.13       70.0   ...      \n",
      "131937            248.0          257.0         30.13       70.0   ...      \n",
      "131938             62.0           32.0         30.13       70.0   ...      \n",
      "131939            116.0          726.0         30.13       70.0   ...      \n",
      "131940             68.0          115.0         30.13       70.0   ...      \n",
      "131941              7.0            4.0         30.13       70.0   ...      \n",
      "131942             80.0           63.0         30.13       70.0   ...      \n",
      "131943            195.0          207.0         30.13       70.0   ...      \n",
      "131944             18.0            4.0         30.13       70.0   ...      \n",
      "131945              0.0            0.0         30.13       70.0   ...      \n",
      "131946             19.0           14.0         30.13       70.0   ...      \n",
      "131947            158.0         1022.0         30.13       70.0   ...      \n",
      "131948             54.0          275.0         30.13       70.0   ...      \n",
      "131949             59.0           46.0         30.13       70.0   ...      \n",
      "131950            123.0          108.0         30.13       70.0   ...      \n",
      "\n",
      "        meandewpti  meanpressurei  fog  rain  meanwindspdi  mintempi  \\\n",
      "0             39.0          30.27  0.0   0.0           5.0      50.0   \n",
      "1             39.0          30.27  0.0   0.0           5.0      50.0   \n",
      "2             39.0          30.27  0.0   0.0           5.0      50.0   \n",
      "3             39.0          30.27  0.0   0.0           5.0      50.0   \n",
      "4             39.0          30.27  0.0   0.0           5.0      50.0   \n",
      "5             39.0          30.27  0.0   0.0           5.0      50.0   \n",
      "6             39.0          30.27  0.0   0.0           5.0      50.0   \n",
      "7             39.0          30.27  0.0   0.0           5.0      50.0   \n",
      "8             39.0          30.27  0.0   0.0           5.0      50.0   \n",
      "9             39.0          30.27  0.0   0.0           5.0      50.0   \n",
      "10            39.0          30.27  0.0   0.0           5.0      50.0   \n",
      "11            39.0          30.27  0.0   0.0           5.0      50.0   \n",
      "12            39.0          30.27  0.0   0.0           5.0      50.0   \n",
      "13            39.0          30.27  0.0   0.0           5.0      50.0   \n",
      "14            39.0          30.27  0.0   0.0           5.0      50.0   \n",
      "15            39.0          30.27  0.0   0.0           5.0      50.0   \n",
      "16            39.0          30.27  0.0   0.0           5.0      50.0   \n",
      "17            39.0          30.27  0.0   0.0           5.0      50.0   \n",
      "18            39.0          30.27  0.0   0.0           5.0      50.0   \n",
      "19            39.0          30.27  0.0   0.0           5.0      50.0   \n",
      "20            39.0          30.27  0.0   0.0           5.0      50.0   \n",
      "21            39.0          30.27  0.0   0.0           5.0      50.0   \n",
      "22            39.0          30.27  0.0   0.0           5.0      50.0   \n",
      "23            39.0          30.27  0.0   0.0           5.0      50.0   \n",
      "24            39.0          30.27  0.0   0.0           5.0      50.0   \n",
      "25            39.0          30.27  0.0   0.0           5.0      50.0   \n",
      "26            39.0          30.27  0.0   0.0           5.0      50.0   \n",
      "27            39.0          30.27  0.0   0.0           5.0      50.0   \n",
      "28            39.0          30.27  0.0   0.0           5.0      50.0   \n",
      "29            39.0          30.27  0.0   0.0           5.0      50.0   \n",
      "...            ...            ...  ...   ...           ...       ...   \n",
      "131921        68.0          30.08  0.0   1.0           5.0      70.0   \n",
      "131922        68.0          30.08  0.0   1.0           5.0      70.0   \n",
      "131923        68.0          30.08  0.0   1.0           5.0      70.0   \n",
      "131924        68.0          30.08  0.0   1.0           5.0      70.0   \n",
      "131925        68.0          30.08  0.0   1.0           5.0      70.0   \n",
      "131926        68.0          30.08  0.0   1.0           5.0      70.0   \n",
      "131927        68.0          30.08  0.0   1.0           5.0      70.0   \n",
      "131928        68.0          30.08  0.0   1.0           5.0      70.0   \n",
      "131929        68.0          30.08  0.0   1.0           5.0      70.0   \n",
      "131930        68.0          30.08  0.0   1.0           5.0      70.0   \n",
      "131931        68.0          30.08  0.0   1.0           5.0      70.0   \n",
      "131932        68.0          30.08  0.0   1.0           5.0      70.0   \n",
      "131933        68.0          30.08  0.0   1.0           5.0      70.0   \n",
      "131934        68.0          30.08  0.0   1.0           5.0      70.0   \n",
      "131935        68.0          30.08  0.0   1.0           5.0      70.0   \n",
      "131936        68.0          30.08  0.0   1.0           5.0      70.0   \n",
      "131937        68.0          30.08  0.0   1.0           5.0      70.0   \n",
      "131938        68.0          30.08  0.0   1.0           5.0      70.0   \n",
      "131939        68.0          30.08  0.0   1.0           5.0      70.0   \n",
      "131940        68.0          30.08  0.0   1.0           5.0      70.0   \n",
      "131941        68.0          30.08  0.0   1.0           5.0      70.0   \n",
      "131942        68.0          30.08  0.0   1.0           5.0      70.0   \n",
      "131943        68.0          30.08  0.0   1.0           5.0      70.0   \n",
      "131944        68.0          30.08  0.0   1.0           5.0      70.0   \n",
      "131945        68.0          30.08  0.0   1.0           5.0      70.0   \n",
      "131946        68.0          30.08  0.0   1.0           5.0      70.0   \n",
      "131947        68.0          30.08  0.0   1.0           5.0      70.0   \n",
      "131948        68.0          30.08  0.0   1.0           5.0      70.0   \n",
      "131949        68.0          30.08  0.0   1.0           5.0      70.0   \n",
      "131950        68.0          30.08  0.0   1.0           5.0      70.0   \n",
      "\n",
      "        meantempi  maxtempi  precipi  thunder  \n",
      "0            60.0      69.0     0.00      0.0  \n",
      "1            60.0      69.0     0.00      0.0  \n",
      "2            60.0      69.0     0.00      0.0  \n",
      "3            60.0      69.0     0.00      0.0  \n",
      "4            60.0      69.0     0.00      0.0  \n",
      "5            60.0      69.0     0.00      0.0  \n",
      "6            60.0      69.0     0.00      0.0  \n",
      "7            60.0      69.0     0.00      0.0  \n",
      "8            60.0      69.0     0.00      0.0  \n",
      "9            60.0      69.0     0.00      0.0  \n",
      "10           60.0      69.0     0.00      0.0  \n",
      "11           60.0      69.0     0.00      0.0  \n",
      "12           60.0      69.0     0.00      0.0  \n",
      "13           60.0      69.0     0.00      0.0  \n",
      "14           60.0      69.0     0.00      0.0  \n",
      "15           60.0      69.0     0.00      0.0  \n",
      "16           60.0      69.0     0.00      0.0  \n",
      "17           60.0      69.0     0.00      0.0  \n",
      "18           60.0      69.0     0.00      0.0  \n",
      "19           60.0      69.0     0.00      0.0  \n",
      "20           60.0      69.0     0.00      0.0  \n",
      "21           60.0      69.0     0.00      0.0  \n",
      "22           60.0      69.0     0.00      0.0  \n",
      "23           60.0      69.0     0.00      0.0  \n",
      "24           60.0      69.0     0.00      0.0  \n",
      "25           60.0      69.0     0.00      0.0  \n",
      "26           60.0      69.0     0.00      0.0  \n",
      "27           60.0      69.0     0.00      0.0  \n",
      "28           60.0      69.0     0.00      0.0  \n",
      "29           60.0      69.0     0.00      0.0  \n",
      "...           ...       ...      ...      ...  \n",
      "131921       78.0      86.0     0.29      0.0  \n",
      "131922       78.0      86.0     0.29      0.0  \n",
      "131923       78.0      86.0     0.29      0.0  \n",
      "131924       78.0      86.0     0.29      0.0  \n",
      "131925       78.0      86.0     0.29      0.0  \n",
      "131926       78.0      86.0     0.29      0.0  \n",
      "131927       78.0      86.0     0.29      0.0  \n",
      "131928       78.0      86.0     0.29      0.0  \n",
      "131929       78.0      86.0     0.29      0.0  \n",
      "131930       78.0      86.0     0.29      0.0  \n",
      "131931       78.0      86.0     0.29      0.0  \n",
      "131932       78.0      86.0     0.29      0.0  \n",
      "131933       78.0      86.0     0.29      0.0  \n",
      "131934       78.0      86.0     0.29      0.0  \n",
      "131935       78.0      86.0     0.29      0.0  \n",
      "131936       78.0      86.0     0.29      0.0  \n",
      "131937       78.0      86.0     0.29      0.0  \n",
      "131938       78.0      86.0     0.29      0.0  \n",
      "131939       78.0      86.0     0.29      0.0  \n",
      "131940       78.0      86.0     0.29      0.0  \n",
      "131941       78.0      86.0     0.29      0.0  \n",
      "131942       78.0      86.0     0.29      0.0  \n",
      "131943       78.0      86.0     0.29      0.0  \n",
      "131944       78.0      86.0     0.29      0.0  \n",
      "131945       78.0      86.0     0.29      0.0  \n",
      "131946       78.0      86.0     0.29      0.0  \n",
      "131947       78.0      86.0     0.29      0.0  \n",
      "131948       78.0      86.0     0.29      0.0  \n",
      "131949       78.0      86.0     0.29      0.0  \n",
      "131950       78.0      86.0     0.29      0.0  \n",
      "\n",
      "[131951 rows x 22 columns]\n"
     ]
    }
   ],
   "source": [
    "weather_data = read_csv_data('turnstile-data-master-with_weather.csv',input_dir())\n",
    "print (weather_data)"
   ]
  },
  {
   "cell_type": "code",
   "execution_count": 10,
   "metadata": {},
   "outputs": [],
   "source": [
    "rainy_data = get_rainy_days(weather_data)\n",
    "not_rainy_data = get_not_rainy_days(weather_data)"
   ]
  },
  {
   "cell_type": "code",
   "execution_count": 11,
   "metadata": {},
   "outputs": [
    {
     "data": {
      "image/png": "[encoded data removed]",
      "text/plain": [
       "<matplotlib.figure.Figure at 0x117c5ee48>"
      ]
     },
     "metadata": {},
     "output_type": "display_data"
    },
    {
     "data": {
      "image/png": "[encoded data removed]",
      "text/plain": [
       "<matplotlib.figure.Figure at 0x114d3af28>"
      ]
     },
     "metadata": {},
     "output_type": "display_data"
    }
   ],
   "source": [
    "entries_histogram(rainy_data, not_rainy_data)"
   ]
  },
  {
   "cell_type": "code",
   "execution_count": null,
   "metadata": {
    "collapsed": true
   },
   "outputs": [],
   "source": []
  },
  {
   "cell_type": "code",
   "execution_count": null,
   "metadata": {
    "collapsed": true
   },
   "outputs": [],
   "source": []
  }
 ],
 "metadata": {
  "kernelspec": {
   "display_name": "Python 3",
   "language": "python",
   "name": "python3"
  },
  "language_info": {
   "codemirror_mode": {
    "name": "ipython",
    "version": 3
   },
   "file_extension": ".py",
   "mimetype": "text/x-python",
   "name": "python",
   "nbconvert_exporter": "python",
   "pygments_lexer": "ipython3",
   "version": "3.6.3"
  }
 },
 "nbformat": 4,
 "nbformat_minor": 2
}
